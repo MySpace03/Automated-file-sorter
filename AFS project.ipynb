{
 "cells": [
  {
   "cell_type": "code",
   "execution_count": null,
   "metadata": {},
   "outputs": [],
   "source": [
    "import os, shutil"
   ]
  },
  {
   "cell_type": "code",
   "execution_count": null,
   "metadata": {},
   "outputs": [],
   "source": [
    "path = r\"D:/just testing for project/\""
   ]
  },
  {
   "cell_type": "code",
   "execution_count": null,
   "metadata": {},
   "outputs": [],
   "source": [
    "# ? supported image types\n",
    "image_extensions = [\".jpg\", \".jpeg\", \".jpe\", \".jif\", \".jfif\", \".jfi\", \".png\", \".gif\", \".webp\", \".tiff\", \".tif\", \".psd\", \".raw\", \".arw\", \".cr2\", \".nrw\",\n",
    "                    \".k25\", \".bmp\", \".dib\", \".heif\", \".heic\", \".ind\", \".indd\", \".indt\", \".jp2\", \".j2k\", \".jpf\", \".jpf\", \".jpx\", \".jpm\", \".mj2\", \".svg\", \".svgz\", \".ai\", \".eps\", \".ico\"]\n",
    "# ? supported Video types\n",
    "video_extensions = [\".webm\", \".mpg\", \".mp2\", \".mpeg\", \".mpe\", \".mpv\", \".ogg\",\n",
    "                    \".mp4\", \".mp4v\", \".m4v\", \".avi\", \".wmv\", \".mov\", \".qt\", \".flv\", \".swf\", \".avchd\"]\n",
    "# ? supported Audio types\n",
    "audio_extensions = [\".m4a\", \".flac\", \"mp3\", \".wav\", \".wma\", \".aac\"]\n",
    "# ? supported Document types\n",
    "document_extensions = [\".doc\", \".docx\", \".odt\",\n",
    "                       \".pdf\", \".xls\", \".xlsx\", \".ppt\", \".pptx\"]"
   ]
  },
  {
   "cell_type": "code",
   "execution_count": null,
   "metadata": {},
   "outputs": [],
   "source": [
    "files  = os.listdir(path)"
   ]
  },
  {
   "cell_type": "code",
   "execution_count": null,
   "metadata": {},
   "outputs": [],
   "source": [
    "folder_name = ['Document','Picture','Music','Video']"
   ]
  },
  {
   "cell_type": "code",
   "execution_count": null,
   "metadata": {},
   "outputs": [],
   "source": [
    "for i in range(len(folder_name)):\n",
    "    if not os.path.exists(path + folder_name[i]):\n",
    "        os.makedirs(path + folder_name[i])"
   ]
  },
  {
   "cell_type": "code",
   "execution_count": null,
   "metadata": {},
   "outputs": [],
   "source": [
    "for file in files:\n",
    "    if file.endswith(\".jpg\"):\n",
    "        shutil.move(path+file, path + \"Picture/\"+file)\n",
    "    elif file.endswith(\".docx\"):\n",
    "        shutil.move(path+file, path + \"Document/\"+file)\n",
    "    elif file.endswith(\".pptx\"):\n",
    "        shutil.move(path+file, path + \"Document/\"+file)\n",
    "    elif file.endswith(\".pdf\"):\n",
    "        shutil.move(path+file, path + \"Document/\"+file)\n",
    "    elif file.endswith(\".mkv\"):\n",
    "        shutil.move(path+file, path + \"Video/\"+file)"
   ]
  }
 ],
 "metadata": {
  "kernelspec": {
   "display_name": "Python 3",
   "language": "python",
   "name": "python3"
  },
  "language_info": {
   "codemirror_mode": {
    "name": "ipython",
    "version": 3
   },
   "file_extension": ".py",
   "mimetype": "text/x-python",
   "name": "python",
   "nbconvert_exporter": "python",
   "pygments_lexer": "ipython3",
   "version": "3.12.2"
  }
 },
 "nbformat": 4,
 "nbformat_minor": 2
}
